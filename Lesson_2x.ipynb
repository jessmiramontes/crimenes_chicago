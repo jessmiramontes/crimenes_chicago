{
  "cells": [
    {
      "cell_type": "markdown",
      "metadata": {
        "id": "sxKCIcdgk1_N"
      },
      "source": [
        "## **Lesson 2:** A simple example of data analysis on Codespace\n",
        "Congratulations team. Our commercial team has landed a potential customer, the City of Chicago, and they want us to analyze the crime data in the city. They have provided a dataset, and they want us to showcase our skills by giving a sneak peek of what we can understand from the data. As this is our first assignment, the management want everybody to take the task and create a repository with the code for the analysis.\n",
        "\n",
        "### **Section 1:** Basic commands on the terminal\n",
        "\n",
        "To make our work reproducible, we need an isolated environment to run our scripts. In Google Colab, you get an ephemeral virtual machine (with RAM and GB), where you can create notebooks and run scripts and even terminal commands. In Codespaces, you can spin up an ephemeral virtual machine (with RAM and GB) where you can sync your files with the repository. Let's learn some basic commands."
      ]
    },
    {
      "cell_type": "code",
      "execution_count": 1,
      "metadata": {
        "id": "vYkzM0LXl5rd"
      },
      "outputs": [
        {
          "name": "stdout",
          "output_type": "stream",
          "text": [
            "Python 3.12.1\n"
          ]
        }
      ],
      "source": [
        "# View python version\n",
        "!python --version"
      ]
    },
    {
      "cell_type": "code",
      "execution_count": 2,
      "metadata": {
        "id": "GtZcSy5kkD90"
      },
      "outputs": [
        {
          "name": "stdout",
          "output_type": "stream",
          "text": [
            "asttokens==2.4.1\n",
            "attrs==24.2.0\n",
            "comm==0.2.2\n",
            "contourpy==1.3.0\n",
            "cycler==0.12.1\n",
            "debugpy==1.8.5\n",
            "decorator==5.1.1\n",
            "executing==2.0.1\n",
            "fastjsonschema==2.20.0\n",
            "fonttools==4.53.1\n",
            "ipykernel==6.29.5\n",
            "ipython==8.26.0\n",
            "jedi==0.19.1\n",
            "jsonschema==4.23.0\n",
            "jsonschema-specifications==2023.12.1\n",
            "jupyter_client==8.6.2\n",
            "jupyter_core==5.7.2\n",
            "kiwisolver==1.4.5\n",
            "matplotlib==3.9.2\n",
            "matplotlib-inline==0.1.7\n",
            "nbformat==5.10.4\n",
            "nest-asyncio==1.6.0\n",
            "numpy==2.1.0\n",
            "packaging==24.1\n",
            "pandas==2.2.2\n",
            "parso==0.8.4\n",
            "pexpect==4.9.0\n",
            "pillow==10.4.0\n",
            "platformdirs==4.2.2\n",
            "prompt_toolkit==3.0.47\n",
            "psutil==6.0.0\n",
            "ptyprocess==0.7.0\n",
            "pure_eval==0.2.3\n",
            "Pygments==2.18.0\n",
            "pyparsing==3.1.4\n",
            "python-dateutil==2.9.0.post0\n",
            "pytz==2024.1\n",
            "pyzmq==26.2.0\n",
            "referencing==0.35.1\n",
            "rpds-py==0.20.0\n",
            "six==1.16.0\n",
            "stack-data==0.6.3\n",
            "tornado==6.4.1\n",
            "traitlets==5.14.3\n",
            "tzdata==2024.1\n",
            "wcwidth==0.2.13\n"
          ]
        }
      ],
      "source": [
        "# List installed packages\n",
        "!pip freeze"
      ]
    },
    {
      "cell_type": "code",
      "execution_count": 3,
      "metadata": {
        "id": "SKtTyegumR_V"
      },
      "outputs": [
        {
          "name": "stdout",
          "output_type": "stream",
          "text": [
            "/workspaces/crimenes_chicago\n"
          ]
        }
      ],
      "source": [
        "# View current directory\n",
        "!pwd"
      ]
    },
    {
      "cell_type": "code",
      "execution_count": 4,
      "metadata": {
        "id": "uftQ3Yv-mLCY"
      },
      "outputs": [
        {
          "name": "stdout",
          "output_type": "stream",
          "text": [
            "Lesson_2x.ipynb  README.md\n"
          ]
        }
      ],
      "source": [
        "# View current files\n",
        "!ls"
      ]
    },
    {
      "cell_type": "code",
      "execution_count": 5,
      "metadata": {
        "id": "1IH4APiacnWV"
      },
      "outputs": [],
      "source": [
        "# Create a file\n",
        "!touch files.txt"
      ]
    },
    {
      "cell_type": "code",
      "execution_count": 20,
      "metadata": {
        "id": "UKISVCPMcu9S"
      },
      "outputs": [],
      "source": [
        "# Add the file and then commit into the local repo"
      ]
    },
    {
      "cell_type": "code",
      "execution_count": 21,
      "metadata": {
        "id": "K87eUci7c4RE"
      },
      "outputs": [],
      "source": [
        "# Push the file into the remote repo"
      ]
    },
    {
      "cell_type": "markdown",
      "metadata": {
        "id": "dnWi9xeenTpG"
      },
      "source": [
        "### **Section 2:** Let's dive into reading data\n",
        "\n",
        "Download the following file from this url: https://data.cityofchicago.org/api/views/qnmj-8ku6/rows.csv?accessType=DOWNLOAD\n",
        "\n",
        "It has records from the Crimes - 2001 to Present dataset for the 2014 year[1].\n",
        "\n",
        "Please, answer the following questions:\n",
        "1. How many crimes were reported in 2014?\n",
        "2. How many crimes were reported in December 2014?\n",
        "3. What are the top 5 crimes?\n",
        "4. Which day has the most and less crimes?\n",
        "5. Is there a trend in the crimes commited?"
      ]
    },
    {
      "cell_type": "code",
      "execution_count": 6,
      "metadata": {
        "id": "qFO8sTAXdvUC"
      },
      "outputs": [
        {
          "name": "stdout",
          "output_type": "stream",
          "text": [
            "  % Total    % Received % Xferd  Average Speed   Time    Time     Time  Current\n",
            "                                 Dload  Upload   Total   Spent    Left  Speed\n",
            "100 62.3M    0 62.3M    0     0  2721k      0 --:--:--  0:00:23 --:--:-- 2993k\n"
          ]
        }
      ],
      "source": [
        "# Download the file using the terminal\n",
        "!curl -o data_crimes.csv https://data.cityofchicago.org/api/views/qnmj-8ku6/rows.csv?accessType=DOWNLOAD"
      ]
    },
    {
      "cell_type": "code",
      "execution_count": 18,
      "metadata": {
        "id": "TBNn-6OboNl4"
      },
      "outputs": [],
      "source": [
        "# Step 0. Load libraries and custom functions\n",
        "import pandas as pd\n",
        "import matplotlib.pyplot as plt\n",
        "import numpy as np\n"
      ]
    },
    {
      "cell_type": "code",
      "execution_count": 8,
      "metadata": {
        "id": "KJqXT1BfopU2"
      },
      "outputs": [],
      "source": [
        "# Step 1. Read data and get a quick view\n",
        "# 1.1 Read the dataset\n",
        "df_raw = pd.read_csv(\"data_crimes.csv\")"
      ]
    },
    {
      "cell_type": "code",
      "execution_count": 12,
      "metadata": {
        "id": "B7h16x52p3CO"
      },
      "outputs": [
        {
          "data": {
            "text/html": [
              "<div>\n",
              "<style scoped>\n",
              "    .dataframe tbody tr th:only-of-type {\n",
              "        vertical-align: middle;\n",
              "    }\n",
              "\n",
              "    .dataframe tbody tr th {\n",
              "        vertical-align: top;\n",
              "    }\n",
              "\n",
              "    .dataframe thead th {\n",
              "        text-align: right;\n",
              "    }\n",
              "</style>\n",
              "<table border=\"1\" class=\"dataframe\">\n",
              "  <thead>\n",
              "    <tr style=\"text-align: right;\">\n",
              "      <th></th>\n",
              "      <th>ID</th>\n",
              "      <th>Case Number</th>\n",
              "      <th>Date</th>\n",
              "      <th>Block</th>\n",
              "      <th>IUCR</th>\n",
              "      <th>Primary Type</th>\n",
              "      <th>Description</th>\n",
              "      <th>Location Description</th>\n",
              "      <th>Arrest</th>\n",
              "      <th>Domestic</th>\n",
              "      <th>...</th>\n",
              "      <th>Ward</th>\n",
              "      <th>Community Area</th>\n",
              "      <th>FBI Code</th>\n",
              "      <th>X Coordinate</th>\n",
              "      <th>Y Coordinate</th>\n",
              "      <th>Year</th>\n",
              "      <th>Updated On</th>\n",
              "      <th>Latitude</th>\n",
              "      <th>Longitude</th>\n",
              "      <th>Location</th>\n",
              "    </tr>\n",
              "  </thead>\n",
              "  <tbody>\n",
              "    <tr>\n",
              "      <th>116451</th>\n",
              "      <td>9622765</td>\n",
              "      <td>HX272798</td>\n",
              "      <td>05/23/2014 12:35:00 AM</td>\n",
              "      <td>005XX E 64TH ST</td>\n",
              "      <td>502R</td>\n",
              "      <td>OTHER OFFENSE</td>\n",
              "      <td>VEHICLE TITLE/REG OFFENSE</td>\n",
              "      <td>STREET</td>\n",
              "      <td>True</td>\n",
              "      <td>False</td>\n",
              "      <td>...</td>\n",
              "      <td>20.0</td>\n",
              "      <td>42</td>\n",
              "      <td>26</td>\n",
              "      <td>1180910.0</td>\n",
              "      <td>1862694.0</td>\n",
              "      <td>2014</td>\n",
              "      <td>02/10/2018 03:50:01 PM</td>\n",
              "      <td>41.778482</td>\n",
              "      <td>-87.612318</td>\n",
              "      <td>(41.778482072, -87.612317953)</td>\n",
              "    </tr>\n",
              "    <tr>\n",
              "      <th>243532</th>\n",
              "      <td>9750700</td>\n",
              "      <td>HX399662</td>\n",
              "      <td>08/23/2014 05:30:00 PM</td>\n",
              "      <td>008XX W 127TH ST</td>\n",
              "      <td>0320</td>\n",
              "      <td>ROBBERY</td>\n",
              "      <td>STRONGARM - NO WEAPON</td>\n",
              "      <td>SIDEWALK</td>\n",
              "      <td>False</td>\n",
              "      <td>False</td>\n",
              "      <td>...</td>\n",
              "      <td>34.0</td>\n",
              "      <td>53</td>\n",
              "      <td>03</td>\n",
              "      <td>1172725.0</td>\n",
              "      <td>1820622.0</td>\n",
              "      <td>2014</td>\n",
              "      <td>02/10/2018 03:50:01 PM</td>\n",
              "      <td>41.663215</td>\n",
              "      <td>-87.643560</td>\n",
              "      <td>(41.663214913, -87.643560301)</td>\n",
              "    </tr>\n",
              "    <tr>\n",
              "      <th>215993</th>\n",
              "      <td>9820139</td>\n",
              "      <td>HX469632</td>\n",
              "      <td>10/16/2014 09:55:00 AM</td>\n",
              "      <td>004XX E 37TH ST</td>\n",
              "      <td>0486</td>\n",
              "      <td>BATTERY</td>\n",
              "      <td>DOMESTIC BATTERY SIMPLE</td>\n",
              "      <td>STREET</td>\n",
              "      <td>False</td>\n",
              "      <td>True</td>\n",
              "      <td>...</td>\n",
              "      <td>4.0</td>\n",
              "      <td>35</td>\n",
              "      <td>08B</td>\n",
              "      <td>1179996.0</td>\n",
              "      <td>1880550.0</td>\n",
              "      <td>2014</td>\n",
              "      <td>02/10/2018 03:50:01 PM</td>\n",
              "      <td>41.827501</td>\n",
              "      <td>-87.615122</td>\n",
              "      <td>(41.827501469, -87.615121711)</td>\n",
              "    </tr>\n",
              "    <tr>\n",
              "      <th>252137</th>\n",
              "      <td>9764333</td>\n",
              "      <td>HX414148</td>\n",
              "      <td>09/03/2014 05:00:00 PM</td>\n",
              "      <td>0000X N WABASH AVE</td>\n",
              "      <td>0460</td>\n",
              "      <td>BATTERY</td>\n",
              "      <td>SIMPLE</td>\n",
              "      <td>CTA TRAIN</td>\n",
              "      <td>True</td>\n",
              "      <td>False</td>\n",
              "      <td>...</td>\n",
              "      <td>42.0</td>\n",
              "      <td>32</td>\n",
              "      <td>08B</td>\n",
              "      <td>1176806.0</td>\n",
              "      <td>1900535.0</td>\n",
              "      <td>2014</td>\n",
              "      <td>02/10/2018 03:50:01 PM</td>\n",
              "      <td>41.882414</td>\n",
              "      <td>-87.626221</td>\n",
              "      <td>(41.882414264, -87.626221455)</td>\n",
              "    </tr>\n",
              "    <tr>\n",
              "      <th>270534</th>\n",
              "      <td>9738272</td>\n",
              "      <td>HX388227</td>\n",
              "      <td>08/14/2014 03:00:00 PM</td>\n",
              "      <td>014XX S ST LOUIS AVE</td>\n",
              "      <td>5002</td>\n",
              "      <td>OTHER OFFENSE</td>\n",
              "      <td>OTHER VEHICLE OFFENSE</td>\n",
              "      <td>STREET</td>\n",
              "      <td>False</td>\n",
              "      <td>False</td>\n",
              "      <td>...</td>\n",
              "      <td>24.0</td>\n",
              "      <td>29</td>\n",
              "      <td>26</td>\n",
              "      <td>1153270.0</td>\n",
              "      <td>1892846.0</td>\n",
              "      <td>2014</td>\n",
              "      <td>02/10/2018 03:50:01 PM</td>\n",
              "      <td>41.861814</td>\n",
              "      <td>-87.712850</td>\n",
              "      <td>(41.861814448, -87.712850162)</td>\n",
              "    </tr>\n",
              "    <tr>\n",
              "      <th>8362</th>\n",
              "      <td>9677167</td>\n",
              "      <td>HX327243</td>\n",
              "      <td>07/01/2014 07:00:00 PM</td>\n",
              "      <td>037XX W BELLE PLAINE AVE</td>\n",
              "      <td>0486</td>\n",
              "      <td>BATTERY</td>\n",
              "      <td>DOMESTIC BATTERY SIMPLE</td>\n",
              "      <td>SIDEWALK</td>\n",
              "      <td>False</td>\n",
              "      <td>True</td>\n",
              "      <td>...</td>\n",
              "      <td>39.0</td>\n",
              "      <td>16</td>\n",
              "      <td>08B</td>\n",
              "      <td>1150790.0</td>\n",
              "      <td>1926993.0</td>\n",
              "      <td>2014</td>\n",
              "      <td>02/10/2018 03:50:01 PM</td>\n",
              "      <td>41.955566</td>\n",
              "      <td>-87.721059</td>\n",
              "      <td>(41.955565894, -87.721059145)</td>\n",
              "    </tr>\n",
              "    <tr>\n",
              "      <th>23626</th>\n",
              "      <td>9531064</td>\n",
              "      <td>HX184326</td>\n",
              "      <td>03/14/2014 08:50:00 AM</td>\n",
              "      <td>021XX N LONG AVE</td>\n",
              "      <td>1811</td>\n",
              "      <td>NARCOTICS</td>\n",
              "      <td>POSS: CANNABIS 30GMS OR LESS</td>\n",
              "      <td>SCHOOL, PUBLIC, BUILDING</td>\n",
              "      <td>True</td>\n",
              "      <td>False</td>\n",
              "      <td>...</td>\n",
              "      <td>37.0</td>\n",
              "      <td>19</td>\n",
              "      <td>18</td>\n",
              "      <td>1140035.0</td>\n",
              "      <td>1913783.0</td>\n",
              "      <td>2014</td>\n",
              "      <td>02/10/2018 03:50:01 PM</td>\n",
              "      <td>41.919520</td>\n",
              "      <td>-87.760922</td>\n",
              "      <td>(41.919520368, -87.760921537)</td>\n",
              "    </tr>\n",
              "    <tr>\n",
              "      <th>66921</th>\n",
              "      <td>9635949</td>\n",
              "      <td>HX287251</td>\n",
              "      <td>06/02/2014 08:09:00 PM</td>\n",
              "      <td>004XX S LOTUS AVE</td>\n",
              "      <td>1811</td>\n",
              "      <td>NARCOTICS</td>\n",
              "      <td>POSS: CANNABIS 30GMS OR LESS</td>\n",
              "      <td>SIDEWALK</td>\n",
              "      <td>True</td>\n",
              "      <td>False</td>\n",
              "      <td>...</td>\n",
              "      <td>29.0</td>\n",
              "      <td>25</td>\n",
              "      <td>18</td>\n",
              "      <td>1139956.0</td>\n",
              "      <td>1897391.0</td>\n",
              "      <td>2014</td>\n",
              "      <td>02/10/2018 03:50:01 PM</td>\n",
              "      <td>41.874540</td>\n",
              "      <td>-87.761613</td>\n",
              "      <td>(41.874540188, -87.761613138)</td>\n",
              "    </tr>\n",
              "    <tr>\n",
              "      <th>215317</th>\n",
              "      <td>9862248</td>\n",
              "      <td>HX511343</td>\n",
              "      <td>11/18/2014 12:20:00 PM</td>\n",
              "      <td>018XX W 79TH ST</td>\n",
              "      <td>0325</td>\n",
              "      <td>ROBBERY</td>\n",
              "      <td>VEHICULAR HIJACKING</td>\n",
              "      <td>STREET</td>\n",
              "      <td>False</td>\n",
              "      <td>False</td>\n",
              "      <td>...</td>\n",
              "      <td>17.0</td>\n",
              "      <td>71</td>\n",
              "      <td>03</td>\n",
              "      <td>1165640.0</td>\n",
              "      <td>1852297.0</td>\n",
              "      <td>2014</td>\n",
              "      <td>02/10/2018 03:50:01 PM</td>\n",
              "      <td>41.750289</td>\n",
              "      <td>-87.668593</td>\n",
              "      <td>(41.750288988, -87.668593194)</td>\n",
              "    </tr>\n",
              "    <tr>\n",
              "      <th>157354</th>\n",
              "      <td>9801574</td>\n",
              "      <td>HX450805</td>\n",
              "      <td>10/01/2014 11:45:00 AM</td>\n",
              "      <td>065XX S MINERVA AVE</td>\n",
              "      <td>0620</td>\n",
              "      <td>BURGLARY</td>\n",
              "      <td>UNLAWFUL ENTRY</td>\n",
              "      <td>APARTMENT</td>\n",
              "      <td>False</td>\n",
              "      <td>False</td>\n",
              "      <td>...</td>\n",
              "      <td>20.0</td>\n",
              "      <td>42</td>\n",
              "      <td>05</td>\n",
              "      <td>1185007.0</td>\n",
              "      <td>1861921.0</td>\n",
              "      <td>2014</td>\n",
              "      <td>02/10/2018 03:50:01 PM</td>\n",
              "      <td>41.776266</td>\n",
              "      <td>-87.597323</td>\n",
              "      <td>(41.776265645, -87.597322542)</td>\n",
              "    </tr>\n",
              "  </tbody>\n",
              "</table>\n",
              "<p>10 rows × 22 columns</p>\n",
              "</div>"
            ],
            "text/plain": [
              "             ID Case Number                    Date                     Block  \\\n",
              "116451  9622765    HX272798  05/23/2014 12:35:00 AM           005XX E 64TH ST   \n",
              "243532  9750700    HX399662  08/23/2014 05:30:00 PM          008XX W 127TH ST   \n",
              "215993  9820139    HX469632  10/16/2014 09:55:00 AM           004XX E 37TH ST   \n",
              "252137  9764333    HX414148  09/03/2014 05:00:00 PM        0000X N WABASH AVE   \n",
              "270534  9738272    HX388227  08/14/2014 03:00:00 PM      014XX S ST LOUIS AVE   \n",
              "8362    9677167    HX327243  07/01/2014 07:00:00 PM  037XX W BELLE PLAINE AVE   \n",
              "23626   9531064    HX184326  03/14/2014 08:50:00 AM          021XX N LONG AVE   \n",
              "66921   9635949    HX287251  06/02/2014 08:09:00 PM         004XX S LOTUS AVE   \n",
              "215317  9862248    HX511343  11/18/2014 12:20:00 PM           018XX W 79TH ST   \n",
              "157354  9801574    HX450805  10/01/2014 11:45:00 AM       065XX S MINERVA AVE   \n",
              "\n",
              "        IUCR   Primary Type                   Description  \\\n",
              "116451  502R  OTHER OFFENSE     VEHICLE TITLE/REG OFFENSE   \n",
              "243532  0320        ROBBERY         STRONGARM - NO WEAPON   \n",
              "215993  0486        BATTERY       DOMESTIC BATTERY SIMPLE   \n",
              "252137  0460        BATTERY                        SIMPLE   \n",
              "270534  5002  OTHER OFFENSE         OTHER VEHICLE OFFENSE   \n",
              "8362    0486        BATTERY       DOMESTIC BATTERY SIMPLE   \n",
              "23626   1811      NARCOTICS  POSS: CANNABIS 30GMS OR LESS   \n",
              "66921   1811      NARCOTICS  POSS: CANNABIS 30GMS OR LESS   \n",
              "215317  0325        ROBBERY           VEHICULAR HIJACKING   \n",
              "157354  0620       BURGLARY                UNLAWFUL ENTRY   \n",
              "\n",
              "            Location Description  Arrest  Domestic  ...  Ward  Community Area  \\\n",
              "116451                    STREET    True     False  ...  20.0              42   \n",
              "243532                  SIDEWALK   False     False  ...  34.0              53   \n",
              "215993                    STREET   False      True  ...   4.0              35   \n",
              "252137                 CTA TRAIN    True     False  ...  42.0              32   \n",
              "270534                    STREET   False     False  ...  24.0              29   \n",
              "8362                    SIDEWALK   False      True  ...  39.0              16   \n",
              "23626   SCHOOL, PUBLIC, BUILDING    True     False  ...  37.0              19   \n",
              "66921                   SIDEWALK    True     False  ...  29.0              25   \n",
              "215317                    STREET   False     False  ...  17.0              71   \n",
              "157354                 APARTMENT   False     False  ...  20.0              42   \n",
              "\n",
              "        FBI Code  X Coordinate Y Coordinate  Year              Updated On  \\\n",
              "116451        26     1180910.0    1862694.0  2014  02/10/2018 03:50:01 PM   \n",
              "243532        03     1172725.0    1820622.0  2014  02/10/2018 03:50:01 PM   \n",
              "215993       08B     1179996.0    1880550.0  2014  02/10/2018 03:50:01 PM   \n",
              "252137       08B     1176806.0    1900535.0  2014  02/10/2018 03:50:01 PM   \n",
              "270534        26     1153270.0    1892846.0  2014  02/10/2018 03:50:01 PM   \n",
              "8362         08B     1150790.0    1926993.0  2014  02/10/2018 03:50:01 PM   \n",
              "23626         18     1140035.0    1913783.0  2014  02/10/2018 03:50:01 PM   \n",
              "66921         18     1139956.0    1897391.0  2014  02/10/2018 03:50:01 PM   \n",
              "215317        03     1165640.0    1852297.0  2014  02/10/2018 03:50:01 PM   \n",
              "157354        05     1185007.0    1861921.0  2014  02/10/2018 03:50:01 PM   \n",
              "\n",
              "         Latitude  Longitude                       Location  \n",
              "116451  41.778482 -87.612318  (41.778482072, -87.612317953)  \n",
              "243532  41.663215 -87.643560  (41.663214913, -87.643560301)  \n",
              "215993  41.827501 -87.615122  (41.827501469, -87.615121711)  \n",
              "252137  41.882414 -87.626221  (41.882414264, -87.626221455)  \n",
              "270534  41.861814 -87.712850  (41.861814448, -87.712850162)  \n",
              "8362    41.955566 -87.721059  (41.955565894, -87.721059145)  \n",
              "23626   41.919520 -87.760922  (41.919520368, -87.760921537)  \n",
              "66921   41.874540 -87.761613  (41.874540188, -87.761613138)  \n",
              "215317  41.750289 -87.668593  (41.750288988, -87.668593194)  \n",
              "157354  41.776266 -87.597323  (41.776265645, -87.597322542)  \n",
              "\n",
              "[10 rows x 22 columns]"
            ]
          },
          "execution_count": 12,
          "metadata": {},
          "output_type": "execute_result"
        }
      ],
      "source": [
        "# 1.2 Get a view\n",
        "df_raw.sample(10)"
      ]
    },
    {
      "cell_type": "code",
      "execution_count": 10,
      "metadata": {
        "id": "RpneURMpqI_Q"
      },
      "outputs": [
        {
          "name": "stdout",
          "output_type": "stream",
          "text": [
            "<class 'pandas.core.frame.DataFrame'>\n",
            "RangeIndex: 275846 entries, 0 to 275845\n",
            "Data columns (total 22 columns):\n",
            " #   Column                Non-Null Count   Dtype  \n",
            "---  ------                --------------   -----  \n",
            " 0   ID                    275846 non-null  int64  \n",
            " 1   Case Number           275846 non-null  object \n",
            " 2   Date                  275846 non-null  object \n",
            " 3   Block                 275846 non-null  object \n",
            " 4   IUCR                  275846 non-null  object \n",
            " 5   Primary Type          275846 non-null  object \n",
            " 6   Description           275846 non-null  object \n",
            " 7   Location Description  275435 non-null  object \n",
            " 8   Arrest                275846 non-null  bool   \n",
            " 9   Domestic              275846 non-null  bool   \n",
            " 10  Beat                  275846 non-null  int64  \n",
            " 11  District              275846 non-null  int64  \n",
            " 12  Ward                  275844 non-null  float64\n",
            " 13  Community Area        275846 non-null  int64  \n",
            " 14  FBI Code              275846 non-null  object \n",
            " 15  X Coordinate          273779 non-null  float64\n",
            " 16  Y Coordinate          273779 non-null  float64\n",
            " 17  Year                  275846 non-null  int64  \n",
            " 18  Updated On            275846 non-null  object \n",
            " 19  Latitude              273779 non-null  float64\n",
            " 20  Longitude             273779 non-null  float64\n",
            " 21  Location              273779 non-null  object \n",
            "dtypes: bool(2), float64(5), int64(5), object(10)\n",
            "memory usage: 42.6+ MB\n"
          ]
        }
      ],
      "source": [
        "# 1.3 Get info\n",
        "df_raw.info()"
      ]
    },
    {
      "cell_type": "code",
      "execution_count": 14,
      "metadata": {
        "id": "Qo1fhRbRtHFQ"
      },
      "outputs": [
        {
          "name": "stderr",
          "output_type": "stream",
          "text": [
            "/tmp/ipykernel_12964/2281733197.py:4: UserWarning: Could not infer format, so each element will be parsed individually, falling back to `dateutil`. To ensure parsing is consistent and as-expected, please specify a format.\n",
            "  df['Date'] = pd.to_datetime(df['Date'])\n",
            "/tmp/ipykernel_12964/2281733197.py:5: UserWarning: Could not infer format, so each element will be parsed individually, falling back to `dateutil`. To ensure parsing is consistent and as-expected, please specify a format.\n",
            "  df['Updated On'] = pd.to_datetime(df['Updated On'])\n"
          ]
        }
      ],
      "source": [
        "# 1.4 Let's make some transformations\n",
        "#copia de la data cruda para poder trabajarla\n",
        "df = df_raw.copy() #df_raw es un objeto .copy/() es un método del objeto pandas, una función del objeto\n",
        "df['Date'] = pd.to_datetime(df['Date'])\n",
        "df['Updated On'] = pd.to_datetime(df['Updated On'])"
      ]
    },
    {
      "cell_type": "code",
      "execution_count": 15,
      "metadata": {
        "id": "8VCYPSyeu66q"
      },
      "outputs": [
        {
          "name": "stdout",
          "output_type": "stream",
          "text": [
            "<class 'pandas.core.frame.DataFrame'>\n",
            "RangeIndex: 275846 entries, 0 to 275845\n",
            "Data columns (total 22 columns):\n",
            " #   Column                Non-Null Count   Dtype         \n",
            "---  ------                --------------   -----         \n",
            " 0   ID                    275846 non-null  int64         \n",
            " 1   Case Number           275846 non-null  object        \n",
            " 2   Date                  275846 non-null  datetime64[ns]\n",
            " 3   Block                 275846 non-null  object        \n",
            " 4   IUCR                  275846 non-null  object        \n",
            " 5   Primary Type          275846 non-null  object        \n",
            " 6   Description           275846 non-null  object        \n",
            " 7   Location Description  275435 non-null  object        \n",
            " 8   Arrest                275846 non-null  bool          \n",
            " 9   Domestic              275846 non-null  bool          \n",
            " 10  Beat                  275846 non-null  int64         \n",
            " 11  District              275846 non-null  int64         \n",
            " 12  Ward                  275844 non-null  float64       \n",
            " 13  Community Area        275846 non-null  int64         \n",
            " 14  FBI Code              275846 non-null  object        \n",
            " 15  X Coordinate          273779 non-null  float64       \n",
            " 16  Y Coordinate          273779 non-null  float64       \n",
            " 17  Year                  275846 non-null  int64         \n",
            " 18  Updated On            275846 non-null  datetime64[ns]\n",
            " 19  Latitude              273779 non-null  float64       \n",
            " 20  Longitude             273779 non-null  float64       \n",
            " 21  Location              273779 non-null  object        \n",
            "dtypes: bool(2), datetime64[ns](2), float64(5), int64(5), object(8)\n",
            "memory usage: 42.6+ MB\n"
          ]
        }
      ],
      "source": [
        "# 1.4.1 Visualize the transformations\n",
        "df.info()"
      ]
    },
    {
      "cell_type": "code",
      "execution_count": 21,
      "metadata": {
        "id": "YbKDW0kJxiwG"
      },
      "outputs": [
        {
          "data": {
            "text/html": [
              "<div>\n",
              "<style scoped>\n",
              "    .dataframe tbody tr th:only-of-type {\n",
              "        vertical-align: middle;\n",
              "    }\n",
              "\n",
              "    .dataframe tbody tr th {\n",
              "        vertical-align: top;\n",
              "    }\n",
              "\n",
              "    .dataframe thead th {\n",
              "        text-align: right;\n",
              "    }\n",
              "</style>\n",
              "<table border=\"1\" class=\"dataframe\">\n",
              "  <thead>\n",
              "    <tr style=\"text-align: right;\">\n",
              "      <th></th>\n",
              "      <th>Case Number</th>\n",
              "      <th>Block</th>\n",
              "      <th>IUCR</th>\n",
              "      <th>Primary Type</th>\n",
              "      <th>Description</th>\n",
              "      <th>Location Description</th>\n",
              "      <th>Arrest</th>\n",
              "      <th>Domestic</th>\n",
              "      <th>Ward</th>\n",
              "      <th>Community Area</th>\n",
              "      <th>FBI Code</th>\n",
              "      <th>Location</th>\n",
              "    </tr>\n",
              "  </thead>\n",
              "  <tbody>\n",
              "    <tr>\n",
              "      <th>count</th>\n",
              "      <td>275846</td>\n",
              "      <td>275846</td>\n",
              "      <td>275846</td>\n",
              "      <td>275846</td>\n",
              "      <td>275846</td>\n",
              "      <td>275435</td>\n",
              "      <td>275846</td>\n",
              "      <td>275846</td>\n",
              "      <td>275844.0</td>\n",
              "      <td>275846</td>\n",
              "      <td>275846</td>\n",
              "      <td>273779</td>\n",
              "    </tr>\n",
              "    <tr>\n",
              "      <th>unique</th>\n",
              "      <td>275838</td>\n",
              "      <td>27539</td>\n",
              "      <td>329</td>\n",
              "      <td>34</td>\n",
              "      <td>333</td>\n",
              "      <td>135</td>\n",
              "      <td>2</td>\n",
              "      <td>2</td>\n",
              "      <td>50.0</td>\n",
              "      <td>77</td>\n",
              "      <td>26</td>\n",
              "      <td>138531</td>\n",
              "    </tr>\n",
              "    <tr>\n",
              "      <th>top</th>\n",
              "      <td>HX229324</td>\n",
              "      <td>001XX N STATE ST</td>\n",
              "      <td>0820</td>\n",
              "      <td>THEFT</td>\n",
              "      <td>$500 AND UNDER</td>\n",
              "      <td>STREET</td>\n",
              "      <td>False</td>\n",
              "      <td>False</td>\n",
              "      <td>28.0</td>\n",
              "      <td>25</td>\n",
              "      <td>06</td>\n",
              "      <td>(41.883500187, -87.627876698)</td>\n",
              "    </tr>\n",
              "    <tr>\n",
              "      <th>freq</th>\n",
              "      <td>2</td>\n",
              "      <td>773</td>\n",
              "      <td>28868</td>\n",
              "      <td>61568</td>\n",
              "      <td>28868</td>\n",
              "      <td>63085</td>\n",
              "      <td>196189</td>\n",
              "      <td>228326</td>\n",
              "      <td>14559.0</td>\n",
              "      <td>18820</td>\n",
              "      <td>61568</td>\n",
              "      <td>458</td>\n",
              "    </tr>\n",
              "  </tbody>\n",
              "</table>\n",
              "</div>"
            ],
            "text/plain": [
              "       Case Number             Block    IUCR Primary Type     Description  \\\n",
              "count       275846            275846  275846       275846          275846   \n",
              "unique      275838             27539     329           34             333   \n",
              "top       HX229324  001XX N STATE ST    0820        THEFT  $500 AND UNDER   \n",
              "freq             2               773   28868        61568           28868   \n",
              "\n",
              "       Location Description  Arrest Domestic      Ward  Community Area  \\\n",
              "count                275435  275846   275846  275844.0          275846   \n",
              "unique                  135       2        2      50.0              77   \n",
              "top                  STREET   False    False      28.0              25   \n",
              "freq                  63085  196189   228326   14559.0           18820   \n",
              "\n",
              "       FBI Code                       Location  \n",
              "count    275846                         273779  \n",
              "unique       26                         138531  \n",
              "top          06  (41.883500187, -87.627876698)  \n",
              "freq      61568                            458  "
            ]
          },
          "execution_count": 21,
          "metadata": {},
          "output_type": "execute_result"
        }
      ],
      "source": [
        "# 1.5 How many single values are in our categorical variables?\n",
        "my_list = ['Block','Primary Type','Description','FBI Code','Community Area','Location Description','Ward','IUCR']\n",
        "df[my_list] = df[my_list].astype('category')\n",
        "df.describe(exclude=[np.number, np.datetime64])"
      ]
    },
    {
      "cell_type": "code",
      "execution_count": 25,
      "metadata": {
        "id": "uYHXN5FSz3bB"
      },
      "outputs": [
        {
          "data": {
            "text/plain": [
              "Index(['id', 'case_number', 'date', 'block', 'iucr', 'primary_type',\n",
              "       'description', 'location_description', 'arrest', 'domestic', 'beat',\n",
              "       'district', 'ward', 'community_area', 'fbi_code', 'x_coordinate',\n",
              "       'y_coordinate', 'year', 'updated_on', 'latitude', 'longitude',\n",
              "       'location'],\n",
              "      dtype='object')"
            ]
          },
          "execution_count": 25,
          "metadata": {},
          "output_type": "execute_result"
        }
      ],
      "source": [
        "# 1.6 Let's create our categorical variables\n",
        "#cambiar el nombre de las columnas para normalizarlodf.columns = df.columns.str.strip().str.lower().str.replace(' ,\"_\"') #quitar espacios en blanco adelante y atrás, poner en minúsculas, cambiar espacios por _\n",
        "df.columns = df.columns.str.strip().str.lower().str.replace(' ','_')\n",
        "df.columns"
      ]
    },
    {
      "cell_type": "markdown",
      "metadata": {
        "id": "zM2PKJNk42XD"
      },
      "source": [
        "Let's agree to a coding convention. We'll make our columns a single word, in lower case. For example our column `Case Number` will be `case_number`"
      ]
    },
    {
      "cell_type": "code",
      "execution_count": 26,
      "metadata": {
        "id": "m6eg6XHa40Xy"
      },
      "outputs": [],
      "source": [
        "# 1.7 Let's convert our columns then\n",
        "df = df.drop('location',axis=1)"
      ]
    },
    {
      "cell_type": "markdown",
      "metadata": {
        "id": "2elv7ngpw26U"
      },
      "source": [
        "Now let me bring a new concept to the table: Tidy Data.\n",
        "\n",
        "Tidy data is a standard way of mapping the meaning of a dataset to its structure. A dataset is messy or tidy depending on how rows, columns and tables are matched up with observations, variables and types. In tidy data:\n",
        "\n",
        "- Every column is a variable.\n",
        "\n",
        "- Every row is an observation.\n",
        "\n",
        "- Every cell is a single value.\n",
        "\n",
        "Tidy data makes it easy for an analyst or a computer to extract needed variables because it provides a standard way of structuring a dataset. Compare the different versions of the classroom data: in the messy version you need to use different strategies to extract different variables. This slows analysis and invites errors. If you consider how many data analysis operations involve all of the values in a variable (every aggregation function), you can see how important it is to extract these values in a simple, standard way. [2]"
      ]
    },
    {
      "cell_type": "code",
      "execution_count": 32,
      "metadata": {
        "id": "FpINqjmSw0OS"
      },
      "outputs": [],
      "source": [
        "# 1.8 Now let's tidy up our dataset"
      ]
    },
    {
      "cell_type": "code",
      "execution_count": 33,
      "metadata": {
        "id": "KGDrcxft-XiB"
      },
      "outputs": [],
      "source": [
        "# 1.8.1 Show information of our transformed dataset"
      ]
    },
    {
      "cell_type": "markdown",
      "metadata": {
        "id": "9O2c9Rdg_HmX"
      },
      "source": [
        "Now we are ready to answer questions!"
      ]
    },
    {
      "cell_type": "code",
      "execution_count": 27,
      "metadata": {},
      "outputs": [
        {
          "data": {
            "text/html": [
              "<div>\n",
              "<style scoped>\n",
              "    .dataframe tbody tr th:only-of-type {\n",
              "        vertical-align: middle;\n",
              "    }\n",
              "\n",
              "    .dataframe tbody tr th {\n",
              "        vertical-align: top;\n",
              "    }\n",
              "\n",
              "    .dataframe thead th {\n",
              "        text-align: right;\n",
              "    }\n",
              "</style>\n",
              "<table border=\"1\" class=\"dataframe\">\n",
              "  <thead>\n",
              "    <tr style=\"text-align: right;\">\n",
              "      <th></th>\n",
              "      <th>id</th>\n",
              "      <th>date</th>\n",
              "      <th>beat</th>\n",
              "      <th>district</th>\n",
              "      <th>x_coordinate</th>\n",
              "      <th>y_coordinate</th>\n",
              "      <th>year</th>\n",
              "      <th>updated_on</th>\n",
              "      <th>latitude</th>\n",
              "      <th>longitude</th>\n",
              "    </tr>\n",
              "  </thead>\n",
              "  <tbody>\n",
              "    <tr>\n",
              "      <th>count</th>\n",
              "      <td>2.758460e+05</td>\n",
              "      <td>275846</td>\n",
              "      <td>275846.000000</td>\n",
              "      <td>275846.000000</td>\n",
              "      <td>2.737790e+05</td>\n",
              "      <td>2.737790e+05</td>\n",
              "      <td>275846.0</td>\n",
              "      <td>275846</td>\n",
              "      <td>273779.000000</td>\n",
              "      <td>273779.000000</td>\n",
              "    </tr>\n",
              "    <tr>\n",
              "      <th>mean</th>\n",
              "      <td>9.683541e+06</td>\n",
              "      <td>2014-07-04 18:47:46.172817408</td>\n",
              "      <td>1142.631276</td>\n",
              "      <td>11.197610</td>\n",
              "      <td>1.164356e+06</td>\n",
              "      <td>1.885349e+06</td>\n",
              "      <td>2014.0</td>\n",
              "      <td>2017-10-22 19:19:14.469878272</td>\n",
              "      <td>41.840996</td>\n",
              "      <td>-87.672406</td>\n",
              "    </tr>\n",
              "    <tr>\n",
              "      <th>min</th>\n",
              "      <td>2.121200e+04</td>\n",
              "      <td>2014-01-01 00:00:00</td>\n",
              "      <td>111.000000</td>\n",
              "      <td>1.000000</td>\n",
              "      <td>0.000000e+00</td>\n",
              "      <td>0.000000e+00</td>\n",
              "      <td>2014.0</td>\n",
              "      <td>2015-08-17 15:03:40</td>\n",
              "      <td>36.619446</td>\n",
              "      <td>-91.686566</td>\n",
              "    </tr>\n",
              "    <tr>\n",
              "      <th>25%</th>\n",
              "      <td>9.575158e+06</td>\n",
              "      <td>2014-04-12 02:02:30</td>\n",
              "      <td>612.000000</td>\n",
              "      <td>6.000000</td>\n",
              "      <td>1.152356e+06</td>\n",
              "      <td>1.858518e+06</td>\n",
              "      <td>2014.0</td>\n",
              "      <td>2018-02-10 15:50:01</td>\n",
              "      <td>41.766999</td>\n",
              "      <td>-87.716063</td>\n",
              "    </tr>\n",
              "    <tr>\n",
              "      <th>50%</th>\n",
              "      <td>9.690226e+06</td>\n",
              "      <td>2014-07-05 19:46:00</td>\n",
              "      <td>1023.000000</td>\n",
              "      <td>10.000000</td>\n",
              "      <td>1.165899e+06</td>\n",
              "      <td>1.891103e+06</td>\n",
              "      <td>2014.0</td>\n",
              "      <td>2018-02-10 15:50:01</td>\n",
              "      <td>41.856790</td>\n",
              "      <td>-87.666507</td>\n",
              "    </tr>\n",
              "    <tr>\n",
              "      <th>75%</th>\n",
              "      <td>9.803724e+06</td>\n",
              "      <td>2014-09-27 03:00:00</td>\n",
              "      <td>1651.000000</td>\n",
              "      <td>16.000000</td>\n",
              "      <td>1.176364e+06</td>\n",
              "      <td>1.908316e+06</td>\n",
              "      <td>2014.0</td>\n",
              "      <td>2018-02-10 15:50:01</td>\n",
              "      <td>41.903997</td>\n",
              "      <td>-87.628093</td>\n",
              "    </tr>\n",
              "    <tr>\n",
              "      <th>max</th>\n",
              "      <td>1.356354e+07</td>\n",
              "      <td>2014-12-31 23:58:00</td>\n",
              "      <td>2535.000000</td>\n",
              "      <td>31.000000</td>\n",
              "      <td>1.205119e+06</td>\n",
              "      <td>1.951507e+06</td>\n",
              "      <td>2014.0</td>\n",
              "      <td>2024-08-18 15:40:47</td>\n",
              "      <td>42.022537</td>\n",
              "      <td>-87.524533</td>\n",
              "    </tr>\n",
              "    <tr>\n",
              "      <th>std</th>\n",
              "      <td>4.287418e+05</td>\n",
              "      <td>NaN</td>\n",
              "      <td>688.962222</td>\n",
              "      <td>6.882186</td>\n",
              "      <td>1.729162e+04</td>\n",
              "      <td>3.231096e+04</td>\n",
              "      <td>0.0</td>\n",
              "      <td>NaN</td>\n",
              "      <td>0.088908</td>\n",
              "      <td>0.062668</td>\n",
              "    </tr>\n",
              "  </tbody>\n",
              "</table>\n",
              "</div>"
            ],
            "text/plain": [
              "                 id                           date           beat  \\\n",
              "count  2.758460e+05                         275846  275846.000000   \n",
              "mean   9.683541e+06  2014-07-04 18:47:46.172817408    1142.631276   \n",
              "min    2.121200e+04            2014-01-01 00:00:00     111.000000   \n",
              "25%    9.575158e+06            2014-04-12 02:02:30     612.000000   \n",
              "50%    9.690226e+06            2014-07-05 19:46:00    1023.000000   \n",
              "75%    9.803724e+06            2014-09-27 03:00:00    1651.000000   \n",
              "max    1.356354e+07            2014-12-31 23:58:00    2535.000000   \n",
              "std    4.287418e+05                            NaN     688.962222   \n",
              "\n",
              "            district  x_coordinate  y_coordinate      year  \\\n",
              "count  275846.000000  2.737790e+05  2.737790e+05  275846.0   \n",
              "mean       11.197610  1.164356e+06  1.885349e+06    2014.0   \n",
              "min         1.000000  0.000000e+00  0.000000e+00    2014.0   \n",
              "25%         6.000000  1.152356e+06  1.858518e+06    2014.0   \n",
              "50%        10.000000  1.165899e+06  1.891103e+06    2014.0   \n",
              "75%        16.000000  1.176364e+06  1.908316e+06    2014.0   \n",
              "max        31.000000  1.205119e+06  1.951507e+06    2014.0   \n",
              "std         6.882186  1.729162e+04  3.231096e+04       0.0   \n",
              "\n",
              "                          updated_on       latitude      longitude  \n",
              "count                         275846  273779.000000  273779.000000  \n",
              "mean   2017-10-22 19:19:14.469878272      41.840996     -87.672406  \n",
              "min              2015-08-17 15:03:40      36.619446     -91.686566  \n",
              "25%              2018-02-10 15:50:01      41.766999     -87.716063  \n",
              "50%              2018-02-10 15:50:01      41.856790     -87.666507  \n",
              "75%              2018-02-10 15:50:01      41.903997     -87.628093  \n",
              "max              2024-08-18 15:40:47      42.022537     -87.524533  \n",
              "std                              NaN       0.088908       0.062668  "
            ]
          },
          "execution_count": 27,
          "metadata": {},
          "output_type": "execute_result"
        }
      ],
      "source": [
        "df.describe()"
      ]
    },
    {
      "cell_type": "code",
      "execution_count": 34,
      "metadata": {
        "id": "iTcbeKAQ--wp"
      },
      "outputs": [
        {
          "name": "stdout",
          "output_type": "stream",
          "text": [
            "total cases: 275846\n",
            "in december 2014: 20414\n"
          ]
        },
        {
          "data": {
            "image/png": "[encoded data removed]",
            "text/plain": [
              "<Figure size 640x480 with 1 Axes>"
            ]
          },
          "metadata": {},
          "output_type": "display_data"
        },
        {
          "data": {
            "image/png": "[encoded data removed]",
            "text/plain": [
              "<Figure size 640x480 with 1 Axes>"
            ]
          },
          "metadata": {},
          "output_type": "display_data"
        }
      ],
      "source": [
        "# 2. Data analysis\n",
        "# 2.1 How many crimes were reported in 2014?\n",
        "print(f'total cases: {len(df)}')\n",
        "\n",
        "# 2.2 How many crimes were reported in December 2014?\n",
        "mask = (df['date'] >= '2014-12-01') & (df['date'] <= '2014-12-31')\n",
        "print(f'in december 2014: {len(df[mask])}')\n",
        "\n",
        "\n",
        "# 2.3 What are the top 5 crimes?\n",
        "df['primary_type'].value_counts().nlargest(5)\n",
        "\n",
        "\n",
        "\n",
        "# 2.4 Which day has the most and less crimes?\n",
        "by_date = df['date'].groupby(df['date'].dt.dayofweek).count()\n",
        "plt.plot(by_date)\n",
        "plt.ylim([0,50000])\n",
        "plt.show()\n",
        "\n",
        "# 2.5 Is there a trend in the crimes commited?\n",
        "by_week = df['date'].groupby(df['date'].dt.isocalendar().week).count()\n",
        "plt.plot(by_week)\n",
        "plt.ylim([0,10000])\n",
        "plt.show()\n"
      ]
    },
    {
      "cell_type": "markdown",
      "metadata": {
        "id": "JZp5nO1QWTsM"
      },
      "source": [
        "## References\n",
        "[1] Chicago Data Portal. (August 27, 2024). *Crimes 2001-to date*, downloaded from https://data.cityofchicago.org/api/views/qnmj-8ku6/rows.csv?accessType=DOWNLOAD  \n",
        "[2] Hadley Wickham and Garrett Grolemund. (Aug 27. 2024). *R for Data Science*, downloaded from https://r4ds.had.co.nz/tidy-data.html"
      ]
    }
  ],
  "metadata": {
    "colab": {
      "provenance": []
    },
    "kernelspec": {
      "display_name": "Python 3",
      "name": "python3"
    },
    "language_info": {
      "codemirror_mode": {
        "name": "ipython",
        "version": 3
      },
      "file_extension": ".py",
      "mimetype": "text/x-python",
      "name": "python",
      "nbconvert_exporter": "python",
      "pygments_lexer": "ipython3",
      "version": "3.12.1"
    }
  },
  "nbformat": 4,
  "nbformat_minor": 0
}
